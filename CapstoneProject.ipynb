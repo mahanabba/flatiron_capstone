{
  "nbformat": 4,
  "nbformat_minor": 0,
  "metadata": {
    "colab": {
      "name": "amazonreviews.ipynb",
      "provenance": [],
      "include_colab_link": true
    },
    "kernelspec": {
      "name": "python3",
      "display_name": "Python 3"
    },
    "accelerator": "TPU"
  },
  "cells": [
    {
      "cell_type": "markdown",
      "metadata": {
        "id": "view-in-github",
        "colab_type": "text"
      },
      "source": [
        "<a href=\"https://colab.research.google.com/github/mahanabba/flatiron_capstone/blob/main/CapstoneProject.ipynb\" target=\"_parent\"><img src=\"https://colab.research.google.com/assets/colab-badge.svg\" alt=\"Open In Colab\"/></a>"
      ]
    },
    {
      "cell_type": "code",
      "metadata": {
        "id": "BJY8tOriCkbR",
        "colab": {
          "base_uri": "https://localhost:8080/"
        },
        "outputId": "8ac74bad-9b3a-46fd-f0cd-92bb2547c7b4"
      },
      "source": [
        "!pip install pyspark==3.2.1\n",
        "!apt install openjdk-8-jdk-headless -qq\n",
        "!pip install mlflow"
      ],
      "execution_count": null,
      "outputs": [
        {
          "output_type": "stream",
          "name": "stdout",
          "text": [
            "Looking in indexes: https://pypi.org/simple, https://us-python.pkg.dev/colab-wheels/public/simple/\n",
            "Collecting pyspark==3.2.1\n",
            "  Downloading pyspark-3.2.1.tar.gz (281.4 MB)\n",
            "\u001b[K     |████████████████████████████████| 281.4 MB 36 kB/s \n",
            "\u001b[?25hCollecting py4j==0.10.9.3\n",
            "  Downloading py4j-0.10.9.3-py2.py3-none-any.whl (198 kB)\n",
            "\u001b[K     |████████████████████████████████| 198 kB 60.3 MB/s \n",
            "\u001b[?25hBuilding wheels for collected packages: pyspark\n",
            "  Building wheel for pyspark (setup.py) ... \u001b[?25l\u001b[?25hdone\n",
            "  Created wheel for pyspark: filename=pyspark-3.2.1-py2.py3-none-any.whl size=281853643 sha256=77e3b88c2dc9ba721cef2fb6b7614b6e2b05f2a4a577fe50e17c6371d58e9044\n",
            "  Stored in directory: /root/.cache/pip/wheels/9f/f5/07/7cd8017084dce4e93e84e92efd1e1d5334db05f2e83bcef74f\n",
            "Successfully built pyspark\n",
            "Installing collected packages: py4j, pyspark\n",
            "Successfully installed py4j-0.10.9.3 pyspark-3.2.1\n",
            "openjdk-8-jdk-headless is already the newest version (8u352-ga-1~18.04).\n",
            "The following package was automatically installed and is no longer required:\n",
            "  libnvidia-common-460\n",
            "Use 'apt autoremove' to remove it.\n",
            "0 upgraded, 0 newly installed, 0 to remove and 5 not upgraded.\n",
            "Looking in indexes: https://pypi.org/simple, https://us-python.pkg.dev/colab-wheels/public/simple/\n",
            "Collecting mlflow\n",
            "  Downloading mlflow-1.30.0-py3-none-any.whl (17.0 MB)\n",
            "\u001b[K     |████████████████████████████████| 17.0 MB 59 kB/s \n",
            "\u001b[?25hRequirement already satisfied: pytz<2023 in /usr/local/lib/python3.7/dist-packages (from mlflow) (2022.6)\n",
            "Requirement already satisfied: cloudpickle<3 in /usr/local/lib/python3.7/dist-packages (from mlflow) (1.5.0)\n",
            "Collecting docker<7,>=4.0.0\n",
            "  Downloading docker-6.0.1-py3-none-any.whl (147 kB)\n",
            "\u001b[K     |████████████████████████████████| 147 kB 43.5 MB/s \n",
            "\u001b[?25hRequirement already satisfied: sqlparse<1,>=0.4.0 in /usr/local/lib/python3.7/dist-packages (from mlflow) (0.4.3)\n",
            "Collecting databricks-cli<1,>=0.8.7\n",
            "  Downloading databricks-cli-0.17.3.tar.gz (77 kB)\n",
            "\u001b[K     |████████████████████████████████| 77 kB 6.0 MB/s \n",
            "\u001b[?25hRequirement already satisfied: numpy<2 in /usr/local/lib/python3.7/dist-packages (from mlflow) (1.21.6)\n",
            "Requirement already satisfied: pyyaml<7,>=5.1 in /usr/local/lib/python3.7/dist-packages (from mlflow) (6.0)\n",
            "Requirement already satisfied: pandas<2 in /usr/local/lib/python3.7/dist-packages (from mlflow) (1.3.5)\n",
            "Requirement already satisfied: entrypoints<1 in /usr/local/lib/python3.7/dist-packages (from mlflow) (0.4)\n",
            "Requirement already satisfied: requests<3,>=2.17.3 in /usr/local/lib/python3.7/dist-packages (from mlflow) (2.23.0)\n",
            "Requirement already satisfied: Flask<3 in /usr/local/lib/python3.7/dist-packages (from mlflow) (1.1.4)\n",
            "Collecting gitpython<4,>=2.1.0\n",
            "  Downloading GitPython-3.1.29-py3-none-any.whl (182 kB)\n",
            "\u001b[K     |████████████████████████████████| 182 kB 59.7 MB/s \n",
            "\u001b[?25hRequirement already satisfied: protobuf<5,>=3.12.0 in /usr/local/lib/python3.7/dist-packages (from mlflow) (3.19.6)\n",
            "Requirement already satisfied: sqlalchemy<2,>=1.4.0 in /usr/local/lib/python3.7/dist-packages (from mlflow) (1.4.43)\n",
            "Requirement already satisfied: importlib-metadata!=4.7.0,<6,>=3.7.0 in /usr/local/lib/python3.7/dist-packages (from mlflow) (4.13.0)\n",
            "Collecting alembic<2\n",
            "  Downloading alembic-1.8.1-py3-none-any.whl (209 kB)\n",
            "\u001b[K     |████████████████████████████████| 209 kB 58.2 MB/s \n",
            "\u001b[?25hCollecting querystring-parser<2\n",
            "  Downloading querystring_parser-1.2.4-py2.py3-none-any.whl (7.9 kB)\n",
            "Requirement already satisfied: packaging<22 in /usr/local/lib/python3.7/dist-packages (from mlflow) (21.3)\n",
            "Requirement already satisfied: click<9,>=7.0 in /usr/local/lib/python3.7/dist-packages (from mlflow) (7.1.2)\n",
            "Collecting gunicorn<21\n",
            "  Downloading gunicorn-20.1.0-py3-none-any.whl (79 kB)\n",
            "\u001b[K     |████████████████████████████████| 79 kB 9.0 MB/s \n",
            "\u001b[?25hRequirement already satisfied: scipy<2 in /usr/local/lib/python3.7/dist-packages (from mlflow) (1.7.3)\n",
            "Collecting prometheus-flask-exporter<1\n",
            "  Downloading prometheus_flask_exporter-0.21.0-py3-none-any.whl (18 kB)\n",
            "Collecting Mako\n",
            "  Downloading Mako-1.2.3-py3-none-any.whl (78 kB)\n",
            "\u001b[K     |████████████████████████████████| 78 kB 7.0 MB/s \n",
            "\u001b[?25hRequirement already satisfied: importlib-resources in /usr/local/lib/python3.7/dist-packages (from alembic<2->mlflow) (5.10.0)\n",
            "Collecting pyjwt>=1.7.0\n",
            "  Downloading PyJWT-2.6.0-py3-none-any.whl (20 kB)\n",
            "Requirement already satisfied: oauthlib>=3.1.0 in /usr/local/lib/python3.7/dist-packages (from databricks-cli<1,>=0.8.7->mlflow) (3.2.2)\n",
            "Requirement already satisfied: tabulate>=0.7.7 in /usr/local/lib/python3.7/dist-packages (from databricks-cli<1,>=0.8.7->mlflow) (0.8.10)\n",
            "Requirement already satisfied: six>=1.10.0 in /usr/local/lib/python3.7/dist-packages (from databricks-cli<1,>=0.8.7->mlflow) (1.15.0)\n",
            "Collecting requests<3,>=2.17.3\n",
            "  Downloading requests-2.28.1-py3-none-any.whl (62 kB)\n",
            "\u001b[K     |████████████████████████████████| 62 kB 1.4 MB/s \n",
            "\u001b[?25hCollecting urllib3>=1.26.0\n",
            "  Downloading urllib3-1.26.12-py2.py3-none-any.whl (140 kB)\n",
            "\u001b[K     |████████████████████████████████| 140 kB 56.2 MB/s \n",
            "\u001b[?25hCollecting websocket-client>=0.32.0\n",
            "  Downloading websocket_client-1.4.2-py3-none-any.whl (55 kB)\n",
            "\u001b[K     |████████████████████████████████| 55 kB 3.4 MB/s \n",
            "\u001b[?25hRequirement already satisfied: Jinja2<3.0,>=2.10.1 in /usr/local/lib/python3.7/dist-packages (from Flask<3->mlflow) (2.11.3)\n",
            "Requirement already satisfied: itsdangerous<2.0,>=0.24 in /usr/local/lib/python3.7/dist-packages (from Flask<3->mlflow) (1.1.0)\n",
            "Requirement already satisfied: Werkzeug<2.0,>=0.15 in /usr/local/lib/python3.7/dist-packages (from Flask<3->mlflow) (1.0.1)\n",
            "Collecting gitdb<5,>=4.0.1\n",
            "  Downloading gitdb-4.0.9-py3-none-any.whl (63 kB)\n",
            "\u001b[K     |████████████████████████████████| 63 kB 1.8 MB/s \n",
            "\u001b[?25hRequirement already satisfied: typing-extensions>=3.7.4.3 in /usr/local/lib/python3.7/dist-packages (from gitpython<4,>=2.1.0->mlflow) (4.1.1)\n",
            "Collecting smmap<6,>=3.0.1\n",
            "  Downloading smmap-5.0.0-py3-none-any.whl (24 kB)\n",
            "Requirement already satisfied: setuptools>=3.0 in /usr/local/lib/python3.7/dist-packages (from gunicorn<21->mlflow) (57.4.0)\n",
            "Requirement already satisfied: zipp>=0.5 in /usr/local/lib/python3.7/dist-packages (from importlib-metadata!=4.7.0,<6,>=3.7.0->mlflow) (3.10.0)\n",
            "Requirement already satisfied: MarkupSafe>=0.23 in /usr/local/lib/python3.7/dist-packages (from Jinja2<3.0,>=2.10.1->Flask<3->mlflow) (2.0.1)\n",
            "Requirement already satisfied: pyparsing!=3.0.5,>=2.0.2 in /usr/local/lib/python3.7/dist-packages (from packaging<22->mlflow) (3.0.9)\n",
            "Requirement already satisfied: python-dateutil>=2.7.3 in /usr/local/lib/python3.7/dist-packages (from pandas<2->mlflow) (2.8.2)\n",
            "Requirement already satisfied: prometheus-client in /usr/local/lib/python3.7/dist-packages (from prometheus-flask-exporter<1->mlflow) (0.15.0)\n",
            "Requirement already satisfied: charset-normalizer<3,>=2 in /usr/local/lib/python3.7/dist-packages (from requests<3,>=2.17.3->mlflow) (2.1.1)\n",
            "Requirement already satisfied: certifi>=2017.4.17 in /usr/local/lib/python3.7/dist-packages (from requests<3,>=2.17.3->mlflow) (2022.9.24)\n",
            "Requirement already satisfied: idna<4,>=2.5 in /usr/local/lib/python3.7/dist-packages (from requests<3,>=2.17.3->mlflow) (2.10)\n",
            "Requirement already satisfied: greenlet!=0.4.17 in /usr/local/lib/python3.7/dist-packages (from sqlalchemy<2,>=1.4.0->mlflow) (2.0.1)\n",
            "Building wheels for collected packages: databricks-cli\n",
            "  Building wheel for databricks-cli (setup.py) ... \u001b[?25l\u001b[?25hdone\n",
            "  Created wheel for databricks-cli: filename=databricks_cli-0.17.3-py3-none-any.whl size=139103 sha256=c6997d181b07f6f02a4b95c4caf4659b9f37ff2ee82772da3164c1dff4899057\n",
            "  Stored in directory: /root/.cache/pip/wheels/3f/73/87/c1e4b2145eb6049bb6c9aaf7ea1e38302b77ca219b6fef5d5c\n",
            "Successfully built databricks-cli\n",
            "Installing collected packages: urllib3, smmap, websocket-client, requests, pyjwt, Mako, gitdb, querystring-parser, prometheus-flask-exporter, gunicorn, gitpython, docker, databricks-cli, alembic, mlflow\n",
            "  Attempting uninstall: urllib3\n",
            "    Found existing installation: urllib3 1.24.3\n",
            "    Uninstalling urllib3-1.24.3:\n",
            "      Successfully uninstalled urllib3-1.24.3\n",
            "  Attempting uninstall: requests\n",
            "    Found existing installation: requests 2.23.0\n",
            "    Uninstalling requests-2.23.0:\n",
            "      Successfully uninstalled requests-2.23.0\n",
            "Successfully installed Mako-1.2.3 alembic-1.8.1 databricks-cli-0.17.3 docker-6.0.1 gitdb-4.0.9 gitpython-3.1.29 gunicorn-20.1.0 mlflow-1.30.0 prometheus-flask-exporter-0.21.0 pyjwt-2.6.0 querystring-parser-1.2.4 requests-2.28.1 smmap-5.0.0 urllib3-1.26.12 websocket-client-1.4.2\n"
          ]
        }
      ]
    },
    {
      "cell_type": "code",
      "metadata": {
        "id": "Kez8En9CC5Pu"
      },
      "source": [],
      "execution_count": null,
      "outputs": []
    },
    {
      "cell_type": "code",
      "metadata": {
        "id": "0dJol_-2DDCb"
      },
      "source": [],
      "execution_count": null,
      "outputs": []
    },
    {
      "cell_type": "code",
      "metadata": {
        "id": "CzB9lIHvDFcA"
      },
      "source": [
        "from pyspark.sql import SparkSession\n",
        "spark = SparkSession.builder.appName(\"truerev\").getOrCreate()"
      ],
      "execution_count": null,
      "outputs": []
    },
    {
      "cell_type": "code",
      "metadata": {
        "id": "0cWFCggHEI5k",
        "outputId": "5993f80c-ce85-43c1-f80a-ea28009d697a",
        "colab": {
          "base_uri": "https://localhost:8080/"
        }
      },
      "source": [
        "from pyspark import SparkFiles\n",
        "url =\"https://s3.amazonaws.com/amazon-reviews-pds/tsv/amazon_reviews_us_Video_Games_v1_00.tsv.gz\"\n",
        "spark.sparkContext.addFile(url)\n",
        "df = spark.read.csv(SparkFiles.get(\"amazon_reviews_us_Video_Games_v1_00.tsv.gz\"), sep=\"\\t\", header=True)\n",
        "df.show()"
      ],
      "execution_count": null,
      "outputs": [
        {
          "output_type": "stream",
          "name": "stdout",
          "text": [
            "+-----------+-----------+--------------+----------+--------------+--------------------+----------------+-----------+-------------+-----------+----+-----------------+--------------------+--------------------+-----------+\n",
            "|marketplace|customer_id|     review_id|product_id|product_parent|       product_title|product_category|star_rating|helpful_votes|total_votes|vine|verified_purchase|     review_headline|         review_body|review_date|\n",
            "+-----------+-----------+--------------+----------+--------------+--------------------+----------------+-----------+-------------+-----------+----+-----------------+--------------------+--------------------+-----------+\n",
            "|         US|   12039526| RTIS3L2M1F5SM|B001CXYMFS|     737716809|Thrustmaster T-Fl...|     Video Games|          5|            0|          0|   N|                Y|an amazing joysti...|Used this for Eli...| 2015-08-31|\n",
            "|         US|    9636577| R1ZV7R40OLHKD|B00M920ND6|     569686175|Tonsee 6 buttons ...|     Video Games|          5|            0|          0|   N|                Y|Definitely a sile...|Loved it,  I didn...| 2015-08-31|\n",
            "|         US|    2331478|R3BH071QLH8QMC|B0029CSOD2|      98937668|Hidden Mysteries:...|     Video Games|          1|            0|          1|   N|                Y|            One Star|poor quality work...| 2015-08-31|\n",
            "|         US|   52495923|R127K9NTSXA2YH|B00GOOSV98|      23143350|GelTabz Performan...|     Video Games|          3|            0|          0|   N|                Y|good, but could b...|nice, but tend to...| 2015-08-31|\n",
            "|         US|   14533949|R32ZWUXDJPW27Q|B00Y074JOM|     821342511|Zero Suit Samus a...|     Video Games|          4|            0|          0|   N|                Y|   Great but flawed.|Great amiibo, gre...| 2015-08-31|\n",
            "|         US|    2377552|R3AQQ4YUKJWBA6|B002UBI6W6|     328764615|Psyclone Recharge...|     Video Games|          1|            0|          0|   N|                Y|            One Star|The remote consta...| 2015-08-31|\n",
            "|         US|   17521011|R2F0POU5K6F73F|B008XHCLFO|      24234603|Protection for yo...|     Video Games|          5|            0|          0|   N|                Y|              A Must|I have a 2012-201...| 2015-08-31|\n",
            "|         US|   19676307|R3VNR804HYSMR6|B00BRA9R6A|     682267517|   Nerf 3DS XL Armor|     Video Games|          5|            0|          0|   N|                Y|          Five Stars|Perfect, kids lov...| 2015-08-31|\n",
            "|         US|     224068| R3GZTM72WA2QH|B009EPWJLA|     435241890|One Piece: Pirate...|     Video Games|          5|            0|          0|   N|                Y|          Five Stars|            Excelent| 2015-08-31|\n",
            "|         US|   48467989| RNQOY62705W1K|B0000AV7GB|     256572651|Playstation 2 Dan...|     Video Games|          4|            0|          0|   N|                Y|          Four Stars|Slippery but expe...| 2015-08-31|\n",
            "|         US|     106569|R1VTIA3JTYBY02|B00008KTNN|     384411423|Metal Arms: Glitc...|     Video Games|          5|            0|          0|   N|                N|          Five Stars|Love the game. Se...| 2015-08-31|\n",
            "|         US|   48269642|R29DOU8791QZL8|B000A3IA0Y|     472622859|72 Pin Connector ...|     Video Games|          1|            0|          0|   N|                Y| Game will get stuck|Does not fit prop...| 2015-08-31|\n",
            "|         US|   52738710|R15DUT1VIJ9RJZ|B0053BQN34|     577628462|uDraw Gametablet ...|     Video Games|          2|            0|          0|   N|                Y|We have tried it ...|This was way too ...| 2015-08-31|\n",
            "|         US|   10556786|R3IMF2MQ3OU9ZM|B002I0HIMI|     988218515|NBA 2K12(Covers M...|     Video Games|          4|            0|          0|   N|                Y|          Four Stars|Works great good ...| 2015-08-31|\n",
            "|         US|    2963837|R23H79DHOZTYAU|B0081EH12M|     770100932|New Trigger Grips...|     Video Games|          1|            1|          1|   N|                Y|Now i have to buy...|It did not fit th...| 2015-08-31|\n",
            "|         US|   23092109| RIV24EQAIXA4O|B005FMLZQQ|      24647669|Xbox 360 Media Re...|     Video Games|          5|            0|          0|   N|                Y|          Five Stars|perfect lightweig...| 2015-08-31|\n",
            "|         US|   23091728|R3UCNGYDVN24YB|B002BSA388|      33706205|Super Mario Galaxy 2|     Video Games|          5|            0|          0|   N|                Y|          Five Stars|               great| 2015-08-31|\n",
            "|         US|   10712640| RUL4H4XTTN2DY|B00BUSLSAC|     829667834|Nintendo 3DS XL -...|     Video Games|          5|            0|          0|   N|                Y|          Five Stars|Works beautifully...| 2015-08-31|\n",
            "|         US|   17455376|R20JF7Z4DHTNX5|B00KWF38AW|     110680188|Captain Toad:  Tr...|     Video Games|          5|            0|          0|   N|                Y|          Five Stars|Kids loved the ga...| 2015-08-31|\n",
            "|         US|   14754850|R2T1AJ5MFI2260|B00BRQJYA8|     616463426|Lego Batman 2: DC...|     Video Games|          4|            0|          0|   N|                Y|          Four Stars|           Goodngame| 2015-08-31|\n",
            "+-----------+-----------+--------------+----------+--------------+--------------------+----------------+-----------+-------------+-----------+----+-----------------+--------------------+--------------------+-----------+\n",
            "only showing top 20 rows\n",
            "\n"
          ]
        }
      ]
    },
    {
      "cell_type": "code",
      "metadata": {
        "id": "lvzPgIBGEfst"
      },
      "source": [
        "productgroup = df.groupby(\"product_title\").count()"
      ],
      "execution_count": null,
      "outputs": []
    },
    {
      "cell_type": "code",
      "metadata": {
        "id": "OWliopGBNIeU",
        "outputId": "2b72ee5f-cc6c-4415-dcf4-3c88f9977e96",
        "colab": {
          "base_uri": "https://localhost:8080/"
        }
      },
      "source": [
        "reviews = productgroup.select(\"product_title\", \"count\")\n",
        "reviews.show()"
      ],
      "execution_count": null,
      "outputs": [
        {
          "output_type": "stream",
          "name": "stdout",
          "text": [
            "+--------------------+-----+\n",
            "|       product_title|count|\n",
            "+--------------------+-----+\n",
            "|Green Yarn Yoshi ...|   27|\n",
            "|       GameShark Pro|   86|\n",
            "|Shin Megami Tense...|   56|\n",
            "|3DS/DSi/DSi XL Ca...|  140|\n",
            "|Razer Carcharias ...|    3|\n",
            "|PlayStation 3 - 3...|  491|\n",
            "|               Joust|    9|\n",
            "|Unreal Anthology ...|   74|\n",
            "|RollerCoaster Tyc...|   95|\n",
            "|3D Ultra Pinball:...|   12|\n",
            "|Retro-Bit Genesis...|   51|\n",
            "|Major League Base...|   17|\n",
            "|Sega Dreamcast Sy...|    9|\n",
            "|SEGA SATURN VIRTU...|    1|\n",
            "|   AMAZING SPIDERMAN|    2|\n",
            "|Neewer 2x Battery...|   58|\n",
            "|Female USB to Ori...|    2|\n",
            "|Full Parts Replac...|   16|\n",
            "|Black and White (...|    6|\n",
            "|Pearl Harbor-Zero...|    2|\n",
            "+--------------------+-----+\n",
            "only showing top 20 rows\n",
            "\n"
          ]
        }
      ]
    },
    {
      "cell_type": "code",
      "metadata": {
        "id": "qcRPBLrVWnT1",
        "outputId": "a5786872-4f24-459b-c863-08a2a413fea6",
        "colab": {
          "base_uri": "https://localhost:8080/"
        }
      },
      "source": [
        "average_rating_df = df.groupby(\"product_title\").agg({\"star_rating\":\"avg\", \"product_title\":\"count\"}).orderBy('count(product_title)', ascending=False)\n",
        "average_rating_df.show()"
      ],
      "execution_count": null,
      "outputs": [
        {
          "output_type": "stream",
          "name": "stdout",
          "text": [
            "+--------------------+------------------+--------------------+\n",
            "|       product_title|  avg(star_rating)|count(product_title)|\n",
            "+--------------------+------------------+--------------------+\n",
            "|PlayStation 4 500...| 4.163787279220153|               10361|\n",
            "|  Grand Theft Auto V| 4.544004589787722|                8715|\n",
            "|Call of Duty: Ghosts|3.7910371318822023|                7810|\n",
            "|       Battlefield 4|3.6683302141817427|                4809|\n",
            "|  Assassin's Creed 4|4.5639559508682765|                4722|\n",
            "|      The Last of Us| 4.733797303175294|                4598|\n",
            "|Elder Scrolls V: ...| 4.307251487767247|                4537|\n",
            "|             Destiny|3.7777777777777777|                4410|\n",
            "| Diablo III - PC/Mac|2.7177676537585422|                4390|\n",
            "|Call of Duty: Bla...| 4.065401326320604|                4373|\n",
            "|SimCity - Limited...| 1.452920443101712|                3972|\n",
            "|       Battlefield 3|3.8350619782443713|                3953|\n",
            "|      Rocksmith 2014| 4.255569782330346|                3905|\n",
            "|Call of Duty: Adv...| 4.144813059505003|                3798|\n",
            "|               Spore|1.6886661097187412|                3591|\n",
            "|     Nintendo Amiibo|4.6223512336719885|                3445|\n",
            "|Assassin's Creed III| 4.149486049926579|                3405|\n",
            "|E-3lue Cobra EMS1...|3.8833725029377204|                3404|\n",
            "|Microsoft Xbox360...| 4.534411764705882|                3400|\n",
            "|Minecraft - Xbox 360| 4.652315914489312|                3368|\n",
            "+--------------------+------------------+--------------------+\n",
            "only showing top 20 rows\n",
            "\n"
          ]
        }
      ]
    },
    {
      "cell_type": "code",
      "metadata": {
        "id": "26IlBoXFXtIU",
        "outputId": "a07e54e9-a6aa-439c-da9c-c06aef1a6b7c",
        "colab": {
          "base_uri": "https://localhost:8080/"
        }
      },
      "source": [
        "vine_rating = df.groupby(\"vine\").agg({\"star_rating\":\"avg\"})\n",
        "vine_rating.show()"
      ],
      "execution_count": null,
      "outputs": [
        {
          "output_type": "stream",
          "name": "stdout",
          "text": [
            "+----+-----------------+\n",
            "|vine| avg(star_rating)|\n",
            "+----+-----------------+\n",
            "|   Y|4.074807737124213|\n",
            "|   N|4.059856676690767|\n",
            "+----+-----------------+\n",
            "\n"
          ]
        }
      ]
    },
    {
      "cell_type": "code",
      "metadata": {
        "id": "bwzBZfJ7YphL",
        "outputId": "1a6b7ec3-bf4f-4d20-cf01-a3d520a4ae9b",
        "colab": {
          "base_uri": "https://localhost:8080/"
        }
      },
      "source": [
        "numrows = df.count()\n",
        "numrows"
      ],
      "execution_count": null,
      "outputs": [
        {
          "output_type": "execute_result",
          "data": {
            "text/plain": [
              "1785997"
            ]
          },
          "metadata": {},
          "execution_count": 11
        }
      ]
    },
    {
      "cell_type": "code",
      "metadata": {
        "id": "4CcHEvHT3jOB",
        "outputId": "7e752638-05ca-472b-c959-f2cf9610022c",
        "colab": {
          "base_uri": "https://localhost:8080/"
        }
      },
      "source": [
        "df.printSchema()"
      ],
      "execution_count": null,
      "outputs": [
        {
          "output_type": "stream",
          "name": "stdout",
          "text": [
            "root\n",
            " |-- marketplace: string (nullable = true)\n",
            " |-- customer_id: string (nullable = true)\n",
            " |-- review_id: string (nullable = true)\n",
            " |-- product_id: string (nullable = true)\n",
            " |-- product_parent: string (nullable = true)\n",
            " |-- product_title: string (nullable = true)\n",
            " |-- product_category: string (nullable = true)\n",
            " |-- star_rating: string (nullable = true)\n",
            " |-- helpful_votes: string (nullable = true)\n",
            " |-- total_votes: string (nullable = true)\n",
            " |-- vine: string (nullable = true)\n",
            " |-- verified_purchase: string (nullable = true)\n",
            " |-- review_headline: string (nullable = true)\n",
            " |-- review_body: string (nullable = true)\n",
            " |-- review_date: string (nullable = true)\n",
            "\n"
          ]
        }
      ]
    },
    {
      "cell_type": "code",
      "metadata": {
        "id": "ktH4wdmt5OUH",
        "outputId": "832a037e-7645-466d-ad19-9ce9c3633bd1",
        "colab": {
          "base_uri": "https://localhost:8080/"
        }
      },
      "source": [
        "nlp_df = df.select(\"star_rating\", \"review_body\")\n",
        "nlp_df.show()"
      ],
      "execution_count": null,
      "outputs": [
        {
          "output_type": "stream",
          "name": "stdout",
          "text": [
            "+-----------+--------------------+\n",
            "|star_rating|         review_body|\n",
            "+-----------+--------------------+\n",
            "|          5|Used this for Eli...|\n",
            "|          5|Loved it,  I didn...|\n",
            "|          1|poor quality work...|\n",
            "|          3|nice, but tend to...|\n",
            "|          4|Great amiibo, gre...|\n",
            "|          1|The remote consta...|\n",
            "|          5|I have a 2012-201...|\n",
            "|          5|Perfect, kids lov...|\n",
            "|          5|            Excelent|\n",
            "|          4|Slippery but expe...|\n",
            "|          5|Love the game. Se...|\n",
            "|          1|Does not fit prop...|\n",
            "|          2|This was way too ...|\n",
            "|          4|Works great good ...|\n",
            "|          1|It did not fit th...|\n",
            "|          5|perfect lightweig...|\n",
            "|          5|               great|\n",
            "|          5|Works beautifully...|\n",
            "|          5|Kids loved the ga...|\n",
            "|          4|           Goodngame|\n",
            "+-----------+--------------------+\n",
            "only showing top 20 rows\n",
            "\n"
          ]
        }
      ]
    },
    {
      "cell_type": "code",
      "metadata": {
        "id": "hO5pD9pKp3LN"
      },
      "source": [
        "from pyspark.sql.functions import UserDefinedFunction\n",
        "from pyspark.sql.types import StringType"
      ],
      "execution_count": null,
      "outputs": []
    },
    {
      "cell_type": "code",
      "metadata": {
        "id": "6yQK0lbJ5_Pz"
      },
      "source": [
        "udf = UserDefinedFunction(lambda x: 'good' if x >= '3' else 'bad', StringType())"
      ],
      "execution_count": null,
      "outputs": []
    },
    {
      "cell_type": "code",
      "metadata": {
        "id": "Y3ScT9gf6kGV",
        "outputId": "90ea9d4b-e99c-4d1c-a612-d6c0e8a21b37",
        "colab": {
          "base_uri": "https://localhost:8080/"
        }
      },
      "source": [
        "nlpclass = nlp_df.withColumn('star_rating', udf('star_rating'))\n",
        "nlpclass.show()\n"
      ],
      "execution_count": null,
      "outputs": [
        {
          "output_type": "stream",
          "name": "stdout",
          "text": [
            "+-----------+--------------------+\n",
            "|star_rating|         review_body|\n",
            "+-----------+--------------------+\n",
            "|       good|Used this for Eli...|\n",
            "|       good|Loved it,  I didn...|\n",
            "|        bad|poor quality work...|\n",
            "|       good|nice, but tend to...|\n",
            "|       good|Great amiibo, gre...|\n",
            "|        bad|The remote consta...|\n",
            "|       good|I have a 2012-201...|\n",
            "|       good|Perfect, kids lov...|\n",
            "|       good|            Excelent|\n",
            "|       good|Slippery but expe...|\n",
            "|       good|Love the game. Se...|\n",
            "|        bad|Does not fit prop...|\n",
            "|        bad|This was way too ...|\n",
            "|       good|Works great good ...|\n",
            "|        bad|It did not fit th...|\n",
            "|       good|perfect lightweig...|\n",
            "|       good|               great|\n",
            "|       good|Works beautifully...|\n",
            "|       good|Kids loved the ga...|\n",
            "|       good|           Goodngame|\n",
            "+-----------+--------------------+\n",
            "only showing top 20 rows\n",
            "\n"
          ]
        }
      ]
    },
    {
      "cell_type": "code",
      "metadata": {
        "id": "P4ZXfW4L-x-m",
        "outputId": "c33fe157-0959-44ab-b04c-f9f313d6662c",
        "colab": {
          "base_uri": "https://localhost:8080/"
        }
      },
      "source": [
        "from pyspark.sql.functions import length\n",
        "nlpclass = nlpclass.withColumn('length', length(nlpclass['review_body']))\n",
        "testdf = nlpclass.selectExpr(\"star_rating as class\", \"review_body as text\", 'length as length')\n",
        "testdf.count()"
      ],
      "execution_count": null,
      "outputs": [
        {
          "output_type": "execute_result",
          "data": {
            "text/plain": [
              "1785997"
            ]
          },
          "metadata": {},
          "execution_count": 17
        }
      ]
    },
    {
      "cell_type": "code",
      "metadata": {
        "id": "_MyFcuibzY0O",
        "outputId": "a0df0d51-bc03-4169-ace5-5a03050eee74",
        "colab": {
          "base_uri": "https://localhost:8080/"
        }
      },
      "source": [
        "testdfna = testdf.dropna(how='any')\n",
        "testdfna.count()"
      ],
      "execution_count": null,
      "outputs": [
        {
          "output_type": "execute_result",
          "data": {
            "text/plain": [
              "1785893"
            ]
          },
          "metadata": {},
          "execution_count": 18
        }
      ]
    },
    {
      "cell_type": "code",
      "metadata": {
        "id": "TAW97s1g18vT",
        "outputId": "1efe1449-8f8c-45cb-c1a4-67b44737da98",
        "colab": {
          "base_uri": "https://localhost:8080/"
        }
      },
      "source": [
        "testdfna.show()"
      ],
      "execution_count": null,
      "outputs": [
        {
          "output_type": "stream",
          "name": "stdout",
          "text": [
            "+-----+--------------------+------+\n",
            "|class|                text|length|\n",
            "+-----+--------------------+------+\n",
            "| good|Used this for Eli...|   178|\n",
            "| good|Loved it,  I didn...|   262|\n",
            "|  bad|poor quality work...|    46|\n",
            "| good|nice, but tend to...|    81|\n",
            "| good|Great amiibo, gre...|    90|\n",
            "|  bad|The remote consta...|    61|\n",
            "| good|I have a 2012-201...|    85|\n",
            "| good|Perfect, kids lov...|    64|\n",
            "| good|            Excelent|     8|\n",
            "| good|Slippery but expe...|    21|\n",
            "| good|Love the game. Se...|    71|\n",
            "|  bad|Does not fit prop...|   332|\n",
            "|  bad|This was way too ...|   339|\n",
            "| good|Works great good ...|    37|\n",
            "|  bad|It did not fit th...|    95|\n",
            "| good|perfect lightweig...|    52|\n",
            "| good|               great|     5|\n",
            "| good|Works beautifully...|    80|\n",
            "| good|Kids loved the ga...|    40|\n",
            "| good|           Goodngame|     9|\n",
            "+-----+--------------------+------+\n",
            "only showing top 20 rows\n",
            "\n"
          ]
        }
      ]
    },
    {
      "cell_type": "code",
      "metadata": {
        "id": "VBQMiKUOn1Xr"
      },
      "source": [
        " from pyspark.ml.feature import Tokenizer, StopWordsRemover, HashingTF, IDF, StringIndexer\n",
        "# Create all the features to the data set\n",
        "pos_neg_to_num = StringIndexer(inputCol='class',outputCol='label')\n",
        "tokenizer = Tokenizer(inputCol=\"text\", outputCol=\"token_text\")\n",
        "stopremove = StopWordsRemover(inputCol='token_text',outputCol='stop_tokens')\n",
        "hashingTF = HashingTF(inputCol=\"token_text\", outputCol='hash_token')\n",
        "idf = IDF(inputCol='hash_token', outputCol='idf_token')"
      ],
      "execution_count": null,
      "outputs": []
    },
    {
      "cell_type": "code",
      "metadata": {
        "id": "GFl6Ne-ntSBK"
      },
      "source": [
        "\n",
        "from pyspark.ml.feature import VectorAssembler\n",
        "from pyspark.ml.linalg import Vector\n",
        "\n",
        "# Create feature vectors\n",
        "clean_up = VectorAssembler(inputCols=['idf_token', 'length'], outputCol='features')"
      ],
      "execution_count": null,
      "outputs": []
    },
    {
      "cell_type": "code",
      "metadata": {
        "id": "xR8IoQMYuFkq"
      },
      "source": [
        "#build pipeline to transform data\n",
        "from pyspark.ml import Pipeline\n",
        "data_prep_pipeline = Pipeline(stages=[pos_neg_to_num, tokenizer, stopremove, hashingTF, idf, clean_up])"
      ],
      "execution_count": null,
      "outputs": []
    },
    {
      "cell_type": "code",
      "metadata": {
        "id": "xJdLPZYOuO-l"
      },
      "source": [
        "cleaner = data_prep_pipeline.fit(testdfna)\n",
        "cleaned = cleaner.transform(testdfna)"
      ],
      "execution_count": null,
      "outputs": []
    },
    {
      "cell_type": "code",
      "metadata": {
        "id": "iNp6lGVRuaGS",
        "outputId": "c446d805-8cd6-4611-d993-6e591ac820bb",
        "colab": {
          "base_uri": "https://localhost:8080/"
        }
      },
      "source": [
        "cleaned.select(['label', 'features']).show()"
      ],
      "execution_count": null,
      "outputs": [
        {
          "output_type": "stream",
          "name": "stdout",
          "text": [
            "+-----+--------------------+\n",
            "|label|            features|\n",
            "+-----+--------------------+\n",
            "|  0.0|(262145,[15775,19...|\n",
            "|  0.0|(262145,[5537,656...|\n",
            "|  1.0|(262145,[30950,34...|\n",
            "|  0.0|(262145,[9129,275...|\n",
            "|  0.0|(262145,[27576,29...|\n",
            "|  1.0|(262145,[27576,95...|\n",
            "|  0.0|(262145,[19036,49...|\n",
            "|  0.0|(262145,[11382,14...|\n",
            "|  0.0|(262145,[90499,26...|\n",
            "|  0.0|(262145,[33917,12...|\n",
            "|  0.0|(262145,[60392,62...|\n",
            "|  1.0|(262145,[2437,722...|\n",
            "|  1.0|(262145,[2437,592...|\n",
            "|  0.0|(262145,[77073,11...|\n",
            "|  1.0|(262145,[8540,190...|\n",
            "|  0.0|(262145,[84677,11...|\n",
            "|  0.0|(262145,[261870,2...|\n",
            "|  0.0|(262145,[19036,20...|\n",
            "|  0.0|(262145,[58267,74...|\n",
            "|  0.0|(262145,[238383,2...|\n",
            "+-----+--------------------+\n",
            "only showing top 20 rows\n",
            "\n"
          ]
        }
      ]
    },
    {
      "cell_type": "code",
      "metadata": {
        "id": "8clyRaoRwX4o"
      },
      "source": [
        "from pyspark.ml.classification import NaiveBayes\n",
        "# split\n",
        "training, testing = cleaned.randomSplit([0.7, 0.3])\n",
        "\n",
        "#fit\n",
        "nb = NaiveBayes()\n",
        "predictor = nb.fit(training)"
      ],
      "execution_count": null,
      "outputs": []
    },
    {
      "cell_type": "code",
      "metadata": {
        "id": "AiQXnqVb293e",
        "outputId": "163d124d-3d16-455a-86f7-f17f6ec3d331",
        "colab": {
          "base_uri": "https://localhost:8080/"
        }
      },
      "source": [
        "from pyspark.ml.evaluation import MulticlassClassificationEvaluator\n",
        "\n",
        "test_results = predictor.transform(testing)\n",
        "\n",
        "acc_eval = MulticlassClassificationEvaluator()\n",
        "acc = acc_eval.evaluate(test_results)\n",
        "print(\"Accuracy of model at predicting reviews was: %f\" % acc)"
      ],
      "execution_count": null,
      "outputs": [
        {
          "output_type": "stream",
          "name": "stdout",
          "text": [
            "Accuracy of model at predicting reviews was: 0.854323\n"
          ]
        }
      ]
    },
    {
      "cell_type": "code",
      "metadata": {
        "id": "HkkRbOvs-Ph8",
        "outputId": "1aa09b3a-e0e9-454a-f11d-32d2d2774f93",
        "colab": {
          "base_uri": "https://localhost:8080/"
        }
      },
      "source": [
        "test_results.show(5)"
      ],
      "execution_count": null,
      "outputs": [
        {
          "output_type": "stream",
          "name": "stdout",
          "text": [
            "+-----+--------------------+------+-----+--------------------+--------------------+--------------------+--------------------+--------------------+--------------------+--------------------+----------+\n",
            "|class|                text|length|label|          token_text|         stop_tokens|          hash_token|           idf_token|            features|       rawPrediction|         probability|prediction|\n",
            "+-----+--------------------+------+-----+--------------------+--------------------+--------------------+--------------------+--------------------+--------------------+--------------------+----------+\n",
            "|  bad|! week of playing...|   422|  1.0|[!, week, of, pla...|[!, week, playing...|(262144,[4991,107...|(262144,[4991,107...|(262145,[4991,107...|[-3049.9275061976...|[1.70420386382158...|       1.0|\n",
            "|  bad|!!!DO NOT BUY!!!<...|   341|  1.0|[!!!do, not, buy!...|[!!!do, buy!!!<br...|(262144,[18176,19...|(262144,[18176,19...|(262145,[18176,19...|[-2399.5980889303...|[3.72348353599211...|       1.0|\n",
            "|  bad|!!<br />So i read...|   154|  1.0|[!!<br, />so, i, ...|[!!<br, />so, rea...|(262144,[5765,190...|(262144,[5765,190...|(262145,[5765,190...|[-1158.6718083183...|[1.02720990000746...|       1.0|\n",
            "|  bad|!WARNING!<br />Do...|   230|  1.0|[!warning!<br, />...|[!warning!<br, />...|(262144,[16127,19...|(262144,[16127,19...|(262145,[16127,19...|[-1487.1764724488...|[9.51070778567961...|       1.0|\n",
            "|  bad|#1) ITEM IS NON-R...|   185|  1.0|[#1), item, is, n...|[#1), item, non-r...|(262144,[7221,275...|(262144,[7221,275...|(262145,[7221,275...|[-1301.4776164773...|[1.74384784774556...|       1.0|\n",
            "+-----+--------------------+------+-----+--------------------+--------------------+--------------------+--------------------+--------------------+--------------------+--------------------+----------+\n",
            "only showing top 5 rows\n",
            "\n"
          ]
        }
      ]
    },
    {
      "cell_type": "code",
      "metadata": {
        "id": "TVdHJDM0m_WX"
      },
      "source": [
        "testpred = test_results.select(\"label\", \"prediction\").toPandas()"
      ],
      "execution_count": null,
      "outputs": []
    },
    {
      "cell_type": "code",
      "metadata": {
        "id": "6P9WUtwQ0bl7",
        "outputId": "1c04e4ea-98ab-4003-be5a-9767167e3093",
        "colab": {
          "base_uri": "https://localhost:8080/"
        }
      },
      "source": [
        "from sklearn.metrics import confusion_matrix\n",
        "matrix = confusion_matrix(testpred[\"label\"], testpred[\"prediction\"])\n",
        "matrix"
      ],
      "execution_count": null,
      "outputs": [
        {
          "output_type": "execute_result",
          "data": {
            "text/plain": [
              "array([[385639,  65032],\n",
              "       [ 19761,  66558]])"
            ]
          },
          "metadata": {},
          "execution_count": 29
        }
      ]
    },
    {
      "cell_type": "code",
      "metadata": {
        "id": "1sJb8vh26Gdy"
      },
      "source": [
        "#for saving and loading the model\n",
        "\n",
        "from google.colab import drive\n",
        "drive.mount('/content/gdrive')"
      ],
      "execution_count": null,
      "outputs": []
    },
    {
      "cell_type": "code",
      "metadata": {
        "id": "GMM083EX6QSr"
      },
      "source": [
        "model_save_name = 'classifier.json'\n",
        "path = f\"/content/gdrive/My Drive/{model_save_name}\"\n",
        "predictor.save(path)"
      ],
      "execution_count": null,
      "outputs": []
    },
    {
      "cell_type": "code",
      "metadata": {
        "id": "ggJH6Hy89ou9"
      },
      "source": [
        "from pyspark.ml.classification import NaiveBayesModel\n",
        "\n",
        "loaded = NaiveBayesModel.load(path)"
      ],
      "execution_count": null,
      "outputs": []
    },
    {
      "cell_type": "code",
      "metadata": {
        "id": "T0Eg_d6N976j"
      },
      "source": [
        "training2, testing2 = cleaned.randomSplit([0.999, 0.001])\n",
        "loadedres = loaded.transform(testing2)\n",
        "acc_eval2 = MulticlassClassificationEvaluator()\n",
        "acc2 = acc_eval.evaluate(loadedres)\n",
        "print(f'Accuracy of loaded model is {acc2}')"
      ],
      "execution_count": null,
      "outputs": []
    },
    {
      "cell_type": "code",
      "metadata": {
        "id": "1wzgsaNl9_o6"
      },
      "source": [
        "#TODO = hyperparameter tuning with CV"
      ],
      "execution_count": null,
      "outputs": []
    },
    {
      "cell_type": "code",
      "metadata": {
        "id": "ZHFGuZ09-C9c"
      },
      "source": [],
      "execution_count": null,
      "outputs": []
    }
  ]
}